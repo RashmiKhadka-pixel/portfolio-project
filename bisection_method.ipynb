{
  "nbformat": 4,
  "nbformat_minor": 0,
  "metadata": {
    "colab": {
      "provenance": [],
      "include_colab_link": true
    },
    "kernelspec": {
      "name": "python3",
      "display_name": "Python 3"
    },
    "language_info": {
      "name": "python"
    }
  },
  "cells": [
    {
      "cell_type": "markdown",
      "metadata": {
        "id": "view-in-github",
        "colab_type": "text"
      },
      "source": [
        "<a href=\"https://colab.research.google.com/github/RashmiKhadka-pixel/portfolio-project/blob/main/bisection_method.ipynb\" target=\"_parent\"><img src=\"https://colab.research.google.com/assets/colab-badge.svg\" alt=\"Open In Colab\"/></a>"
      ]
    },
    {
      "cell_type": "code",
      "execution_count": 9,
      "metadata": {
        "id": "l4cMp0tecPoI"
      },
      "outputs": [],
      "source": [
        "def bisection(f, a, b, tol=1e-6, max_iter=50):\n",
        "    \"\"\"Return x s.t. f(x)≈0 on [a,b] using bisection.\n",
        "    Requires f(a)*f(b) < 0 and f continuous on [a,b].\n",
        "    \"\"\"\n",
        "    fa, fb = f(a), f(b)\n",
        "    if fa == 0:\n",
        "        return a\n",
        "    if fb == 0:\n",
        "        return b\n",
        "    if fa * fb > 0:\n",
        "        raise ValueError(\"f(a) and f(b) must have opposite signs\")\n",
        "\n",
        "    for _ in range(max_iter):\n",
        "        c = 0.5 * (a + b)\n",
        "        fc = f(c)\n",
        "        # If exact or small enough interval\n",
        "        if fc == 0 or 0.5 * (b - a) < tol:\n",
        "            return c\n",
        "        # Keep the subinterval with sign change\n",
        "        if fa * fc < 0:\n",
        "            b, fb = c, fc\n",
        "        else:\n",
        "            a, fa = c, fc\n",
        "    # Return best midpoint after max_iter\n",
        "    return 0.5 * (a + b)"
      ]
    },
    {
      "cell_type": "code",
      "source": [
        "#Solve x^2 - 2 = 0\n",
        "\n",
        "import numpy as np\n",
        "import math\n",
        "\n",
        "def f(x):\n",
        "  return x*x -2\n",
        "\n",
        "root = bisection(f, a=1, b=2, tol=1e-6, max_iter=50)\n",
        "print(\"approx root:\", root)\n",
        "print(\"abs error: \", abs(root - np.sqrt(2)))"
      ],
      "metadata": {
        "colab": {
          "base_uri": "https://localhost:8080/"
        },
        "id": "y6h12Jx0f2Zp",
        "outputId": "d76a71b7-0a74-4238-affc-7f204c362b25"
      },
      "execution_count": 10,
      "outputs": [
        {
          "output_type": "stream",
          "name": "stdout",
          "text": [
            "approx root: 1.4142141342163086\n",
            "abs error:  5.718432134482754e-07\n"
          ]
        }
      ]
    },
    {
      "cell_type": "markdown",
      "source": [
        "###How to figure out initial values $\\left[a,b \\right]$?"
      ],
      "metadata": {
        "id": "MMLYnpmRh4aj"
      }
    },
    {
      "cell_type": "code",
      "source": [
        "#Define initial values\n",
        "\n",
        "a_0 = np.random.normal(0, 1)\n",
        "b_0 = np.random.normal(0, 1)\n",
        "\n",
        "#print(a_0, b_0)\n",
        "root = bisection(f, a=a_0, b=b_0, tol=1e-10, max_iter=100)\n",
        "print(\"approx root:\", root)\n",
        "print(\"abs error: \", abs(root - np.sqrt(2)))"
      ],
      "metadata": {
        "collapsed": true,
        "colab": {
          "base_uri": "https://localhost:8080/"
        },
        "id": "Dip7s9Wqgj4X",
        "outputId": "d7bae0cf-a2c4-4b12-dbcb-a676fb81b9f1"
      },
      "execution_count": 11,
      "outputs": [
        {
          "output_type": "stream",
          "name": "stdout",
          "text": [
            "approx root: 0.4432554602370802\n",
            "abs error:  0.970958102136015\n"
          ]
        }
      ]
    },
    {
      "cell_type": "code",
      "source": [
        "def g(x):\n",
        "  return np.cos(x) - x\n",
        "\n",
        "root2 = bisection(g, a=0.0, b=1.0, tol=1e-8, max_iter=60)\n",
        "print(\"approx root:\", root2)"
      ],
      "metadata": {
        "colab": {
          "base_uri": "https://localhost:8080/"
        },
        "id": "dfHchV-6j3I9",
        "outputId": "7e7d18f3-5c62-43a0-91be-c31d5261d443"
      },
      "execution_count": 12,
      "outputs": [
        {
          "output_type": "stream",
          "name": "stdout",
          "text": [
            "approx root: 0.7390851303935051\n"
          ]
        }
      ]
    },
    {
      "cell_type": "code",
      "source": [
        "#Residual\n",
        "print(\"|g(root2)| =\", abs(g(root2)))\n",
        "\n",
        "#Error bound after n interations (worst-case). If we used n=30, starting [0,1].\n",
        "a0, b0, n = 0.0, 1.0, 30\n",
        "bound = (b0 - a0) / (2**(n+1))\n",
        "print(\"Theoretical bound after 30 iters: \", bound)"
      ],
      "metadata": {
        "colab": {
          "base_uri": "https://localhost:8080/"
        },
        "id": "vCSH70u5kndh",
        "outputId": "e8006b86-bc49-4835-889e-5f8ee96b4a52"
      },
      "execution_count": 13,
      "outputs": [
        {
          "output_type": "stream",
          "name": "stdout",
          "text": [
            "|g(root2)| = 4.722356616859713e-09\n",
            "Theoretical bound after 30 iters:  4.656612873077393e-10\n"
          ]
        }
      ]
    },
    {
      "cell_type": "code",
      "source": [],
      "metadata": {
        "id": "LcEV6isPj5Ak"
      },
      "execution_count": 13,
      "outputs": []
    }
  ]
}