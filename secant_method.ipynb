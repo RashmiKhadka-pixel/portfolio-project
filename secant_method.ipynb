{
  "nbformat": 4,
  "nbformat_minor": 0,
  "metadata": {
    "colab": {
      "provenance": [],
      "include_colab_link": true
    },
    "kernelspec": {
      "name": "python3",
      "display_name": "Python 3"
    },
    "language_info": {
      "name": "python"
    }
  },
  "cells": [
    {
      "cell_type": "markdown",
      "metadata": {
        "id": "view-in-github",
        "colab_type": "text"
      },
      "source": [
        "<a href=\"https://colab.research.google.com/github/RashmiKhadka-pixel/portfolio-project/blob/main/secant_method.ipynb\" target=\"_parent\"><img src=\"https://colab.research.google.com/assets/colab-badge.svg\" alt=\"Open In Colab\"/></a>"
      ]
    },
    {
      "cell_type": "code",
      "execution_count": 1,
      "metadata": {
        "id": "COP5sOyf0Nch"
      },
      "outputs": [],
      "source": [
        "def secant_method(f, x0, x1, tol=1e-6, max_iter=100):\n",
        "    \"\"\"\n",
        "    Secant method for finding roots.\n",
        "\n",
        "    Parameters:\n",
        "    -----------\n",
        "    f : function\n",
        "        The function whose root we're finding\n",
        "    x0, x1 : float\n",
        "        Two initial guesses (should be close to root)\n",
        "    tol : float\n",
        "        Tolerance for convergence\n",
        "    max_iter : int\n",
        "        Maximum number of iterations\n",
        "\n",
        "    Returns:\n",
        "    --------\n",
        "    x : float\n",
        "        Approximate root\n",
        "    iterations : list\n",
        "        History of iterations\n",
        "    \"\"\"\n",
        "    iterations = [x0, x1]\n",
        "\n",
        "    for i in range(max_iter):\n",
        "        fx0 = f(x0)\n",
        "        fx1 = f(x1)\n",
        "\n",
        "        # Check if function values are too close\n",
        "        if abs(fx1 - fx0) < 1e-12:\n",
        "            print(f\"Function values too close at iteration {i}\")\n",
        "            break\n",
        "\n",
        "        # Secant method update\n",
        "        x_new = x1 - fx1 * (x1 - x0) / (fx1 - fx0)\n",
        "        iterations.append(x_new)\n",
        "\n",
        "        # Check convergence\n",
        "        if abs(x_new - x1) < tol:\n",
        "            print(f\"Converged in {i+1} iterations\")\n",
        "            return x_new, iterations\n",
        "\n",
        "        # Update for next iteration\n",
        "        x0, x1 = x1, x_new\n",
        "\n",
        "    print(f\"Did not converge in {max_iter} iterations\")\n",
        "    return x1, iterations"
      ]
    },
    {
      "cell_type": "code",
      "source": [
        "f = lambda x:x**2 - 2\n",
        "\n",
        "#Two initial guesses\n",
        "x0, x1 = 1.0, 2.0\n",
        "\n",
        "#Find root\n",
        "root, history = secant_method(f,\n",
        "                              x0,\n",
        "                              x1,\n",
        "                              tol=1e-10)\n",
        "\n",
        "print(f\"root 2 = {root}\")\n",
        "print(f\"Iterations: {len(history) - 2}\")"
      ],
      "metadata": {
        "id": "bz6UsjTW29Q-",
        "outputId": "2c35d4c6-3690-418a-8c23-87301d0230d9",
        "colab": {
          "base_uri": "https://localhost:8080/"
        }
      },
      "execution_count": 2,
      "outputs": [
        {
          "output_type": "stream",
          "name": "stdout",
          "text": [
            "Converged in 7 iterations\n",
            "root 2 = 1.4142135623730951\n",
            "Iterations: 7\n"
          ]
        }
      ]
    },
    {
      "cell_type": "code",
      "source": [
        "history"
      ],
      "metadata": {
        "id": "q_e6JPgi3hv3",
        "outputId": "2bff6f5e-f372-4168-adff-4cdbb0557af4",
        "colab": {
          "base_uri": "https://localhost:8080/"
        }
      },
      "execution_count": 3,
      "outputs": [
        {
          "output_type": "execute_result",
          "data": {
            "text/plain": [
              "[1.0,\n",
              " 2.0,\n",
              " 1.3333333333333335,\n",
              " 1.4000000000000001,\n",
              " 1.4146341463414633,\n",
              " 1.41421143847487,\n",
              " 1.4142135620573204,\n",
              " 1.4142135623730954,\n",
              " 1.4142135623730951]"
            ]
          },
          "metadata": {},
          "execution_count": 3
        }
      ]
    },
    {
      "cell_type": "code",
      "source": [
        "import numpy as np\n",
        "f = lambda x:np.sqrt(np.abs(x))\n",
        "\n",
        "#Two initial guesses\n",
        "x0, x1 = 1.0, 2.0\n",
        "\n",
        "#Find root\n",
        "root, history = secant_method(f,\n",
        "                              x0=0.01,\n",
        "                              x1=0.2,\n",
        "                              tol=1e-10)\n",
        "\n",
        "print(f\"0 ≈ {root}\")\n",
        "print(f\"Error: {abs(root - 0)}\")"
      ],
      "metadata": {
        "id": "9URccvbN3igb",
        "outputId": "945dc6f5-5267-445b-b919-79ea694e0d4a",
        "colab": {
          "base_uri": "https://localhost:8080/"
        }
      },
      "execution_count": 9,
      "outputs": [
        {
          "output_type": "stream",
          "name": "stdout",
          "text": [
            "Did not converge in 100 iterations\n",
            "0 ≈ 8.751458817291875e+19\n",
            "Error: 8.751458817291875e+19\n"
          ]
        }
      ]
    }
  ]
}