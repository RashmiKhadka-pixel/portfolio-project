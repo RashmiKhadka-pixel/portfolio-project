{
  "nbformat": 4,
  "nbformat_minor": 0,
  "metadata": {
    "colab": {
      "provenance": [],
      "include_colab_link": true
    },
    "kernelspec": {
      "name": "python3",
      "display_name": "Python 3"
    },
    "language_info": {
      "name": "python"
    }
  },
  "cells": [
    {
      "cell_type": "markdown",
      "metadata": {
        "id": "view-in-github",
        "colab_type": "text"
      },
      "source": [
        "<a href=\"https://colab.research.google.com/github/RashmiKhadka-pixel/portfolio-project/blob/main/2-core-python.ipynb\" target=\"_parent\"><img src=\"https://colab.research.google.com/assets/colab-badge.svg\" alt=\"Open In Colab\"/></a>"
      ]
    },
    {
      "cell_type": "code",
      "execution_count": 2,
      "metadata": {
        "id": "gnT7qMYPQtES",
        "outputId": "51380aa3-facd-4323-f4b8-79d37b55704b",
        "colab": {
          "base_uri": "https://localhost:8080/"
        }
      },
      "outputs": [
        {
          "output_type": "stream",
          "name": "stdout",
          "text": [
            "<class 'int'> <class 'float'> <class 'str'> <class 'bool'>\n",
            "7 2.5 2324 True\n"
          ]
        }
      ],
      "source": [
        " x = 7 #int\n",
        " y = 2.5 #float\n",
        " z = \"2324\" #str\n",
        " a = True #bool\n",
        "\n",
        " print(type(x), type(y), type(z), type(a))\n",
        "\n",
        " #casting\n",
        " print(x, y, z, a)"
      ]
    },
    {
      "cell_type": "code",
      "source": [
        "int(x)"
      ],
      "metadata": {
        "colab": {
          "base_uri": "https://localhost:8080/"
        },
        "id": "583XJXdIS7Fk",
        "outputId": "039e6e25-399f-4c42-ac36-16f2e7286d8b"
      },
      "execution_count": 3,
      "outputs": [
        {
          "output_type": "execute_result",
          "data": {
            "text/plain": [
              "7"
            ]
          },
          "metadata": {},
          "execution_count": 3
        }
      ]
    },
    {
      "cell_type": "code",
      "source": [
        "str(x)"
      ],
      "metadata": {
        "colab": {
          "base_uri": "https://localhost:8080/",
          "height": 35
        },
        "id": "7725-g-7S_pe",
        "outputId": "8fdfdd71-2410-419c-9b1d-e1c926e71d6d"
      },
      "execution_count": 4,
      "outputs": [
        {
          "output_type": "execute_result",
          "data": {
            "text/plain": [
              "'7'"
            ],
            "application/vnd.google.colaboratory.intrinsic+json": {
              "type": "string"
            }
          },
          "metadata": {},
          "execution_count": 4
        }
      ]
    },
    {
      "cell_type": "code",
      "source": [
        "import numpy as np\n",
        "\n",
        "a = [True, True, False]\n",
        "arr = np.array(a)\n",
        "arr+1"
      ],
      "metadata": {
        "colab": {
          "base_uri": "https://localhost:8080/"
        },
        "id": "YwGSYTo0S3Nb",
        "outputId": "0da177c1-cb21-4812-86c3-6d5bf4412f79"
      },
      "execution_count": 5,
      "outputs": [
        {
          "output_type": "execute_result",
          "data": {
            "text/plain": [
              "array([2, 2, 1])"
            ]
          },
          "metadata": {},
          "execution_count": 5
        }
      ]
    },
    {
      "cell_type": "code",
      "source": [
        "arr.astype(int)"
      ],
      "metadata": {
        "colab": {
          "base_uri": "https://localhost:8080/"
        },
        "id": "jqHmvD9STbjB",
        "outputId": "6a47a87b-03ee-4bc9-b3c8-a5fa360fb68b"
      },
      "execution_count": 6,
      "outputs": [
        {
          "output_type": "execute_result",
          "data": {
            "text/plain": [
              "array([1, 1, 0])"
            ]
          },
          "metadata": {},
          "execution_count": 6
        }
      ]
    },
    {
      "cell_type": "code",
      "source": [
        "arr"
      ],
      "metadata": {
        "colab": {
          "base_uri": "https://localhost:8080/"
        },
        "id": "KANAkJpmTokz",
        "outputId": "a129b665-ca49-4abb-8dc4-03f8d13a1db5"
      },
      "execution_count": 7,
      "outputs": [
        {
          "output_type": "execute_result",
          "data": {
            "text/plain": [
              "array([ True,  True, False])"
            ]
          },
          "metadata": {},
          "execution_count": 7
        }
      ]
    },
    {
      "cell_type": "code",
      "source": [
        "np.int64(arr)"
      ],
      "metadata": {
        "colab": {
          "base_uri": "https://localhost:8080/"
        },
        "id": "tl5mavcATpNG",
        "outputId": "490dd0a9-0bea-4d97-ff5b-e3bef85f0fc0"
      },
      "execution_count": 8,
      "outputs": [
        {
          "output_type": "execute_result",
          "data": {
            "text/plain": [
              "array([1, 1, 0])"
            ]
          },
          "metadata": {},
          "execution_count": 8
        }
      ]
    },
    {
      "cell_type": "code",
      "source": [
        "#EXERCISE\n",
        "#Create variables a=10, b=\"3\". Convert b to an integr and print a + int(b)\n",
        "\n",
        "#Define variables\n",
        "a = 10 #int\n",
        "b = \"3\" #str\n",
        "\n",
        "#print variable types\n",
        "print(type(a), type(b))\n",
        "\n",
        "#Convert variable b to integer\n",
        "b = int(b)\n",
        "\n",
        "#check type again\n",
        "print(type(a), type(b))\n",
        "\n",
        "#add variables\n",
        "a+b\n",
        "\n"
      ],
      "metadata": {
        "colab": {
          "base_uri": "https://localhost:8080/"
        },
        "id": "RidPKO56Ty3n",
        "outputId": "98c0ce80-e3c0-4a80-8fcd-af87fef8bb79"
      },
      "execution_count": 9,
      "outputs": [
        {
          "output_type": "stream",
          "name": "stdout",
          "text": [
            "<class 'int'> <class 'str'>\n",
            "<class 'int'> <class 'int'>\n"
          ]
        },
        {
          "output_type": "execute_result",
          "data": {
            "text/plain": [
              "13"
            ]
          },
          "metadata": {},
          "execution_count": 9
        }
      ]
    },
    {
      "cell_type": "markdown",
      "source": [
        "### You cannot add a numerical type (floats or ints) with string\n",
        "###2.0 + \"test\" #This will be an error"
      ],
      "metadata": {
        "id": "fKQuIOuTV8R2"
      }
    },
    {
      "cell_type": "code",
      "source": [
        "# However we can multiply strings by integers (float doesnt work)\n",
        "\n",
        "3 * 'test'"
      ],
      "metadata": {
        "colab": {
          "base_uri": "https://localhost:8080/",
          "height": 35
        },
        "id": "kxEP9uuRWFMU",
        "outputId": "12f5b658-5019-4908-bb1e-db4314f964d3"
      },
      "execution_count": 10,
      "outputs": [
        {
          "output_type": "execute_result",
          "data": {
            "text/plain": [
              "'testtesttest'"
            ],
            "application/vnd.google.colaboratory.intrinsic+json": {
              "type": "string"
            }
          },
          "metadata": {},
          "execution_count": 10
        }
      ]
    },
    {
      "cell_type": "markdown",
      "source": [
        "## IF, ELIF, AND ELSE STATEMENTS"
      ],
      "metadata": {
        "id": "Ni2l0Mn0XI8e"
      }
    },
    {
      "cell_type": "code",
      "source": [
        "def classify(x):\n",
        "  if x < 0:\n",
        "    return \"negative\"\n",
        "\n",
        "  elif x == 0:\n",
        "    return \"zero\"\n",
        "\n",
        "  else:\n",
        "    return \"positive\"\n",
        "\n",
        "print(classify(-4), classify(8), classify(0))\n"
      ],
      "metadata": {
        "colab": {
          "base_uri": "https://localhost:8080/"
        },
        "id": "EEcNmc-LW8S2",
        "outputId": "d489967b-77ab-47b3-8dee-82de99b8c456"
      },
      "execution_count": 11,
      "outputs": [
        {
          "output_type": "stream",
          "name": "stdout",
          "text": [
            "negative positive zero\n"
          ]
        }
      ]
    },
    {
      "cell_type": "code",
      "source": [
        "def classify(x):\n",
        "\n",
        "  output = \"\"\n",
        "\n",
        "  if x < 0:\n",
        "    output = \"negative\"\n",
        "\n",
        "  elif x == 0:\n",
        "    output =  \"zero\"\n",
        "\n",
        "  else:\n",
        "    output =  \"positive\"\n",
        "\n",
        "  return output\n",
        "\n",
        "print(classify(-4), classify(8), classify(0))"
      ],
      "metadata": {
        "colab": {
          "base_uri": "https://localhost:8080/"
        },
        "id": "mVmtOAqcX-Xh",
        "outputId": "815e0cba-2a9d-45a1-f3ee-b5a520bc7d9e"
      },
      "execution_count": 12,
      "outputs": [
        {
          "output_type": "stream",
          "name": "stdout",
          "text": [
            "negative positive zero\n"
          ]
        }
      ]
    },
    {
      "cell_type": "code",
      "source": [
        "#EXERCISE Write a function is_even(n) that returns true if n is even , else False\n",
        "\n",
        "#Define function\n",
        "def oddeven(x):\n",
        "  if x % 2 == 0:\n",
        "    return True\n",
        "\n",
        "  else:\n",
        "    return False\n",
        "\n",
        "#Test function\n",
        "print(oddeven(7), oddeven(6), oddeven(68))\n"
      ],
      "metadata": {
        "colab": {
          "base_uri": "https://localhost:8080/"
        },
        "id": "vdhB3H30ZHDO",
        "outputId": "6a107bba-bf0c-4eb9-988b-03c57dee63d7"
      },
      "execution_count": 13,
      "outputs": [
        {
          "output_type": "stream",
          "name": "stdout",
          "text": [
            "False True True\n"
          ]
        }
      ]
    },
    {
      "cell_type": "code",
      "source": [
        "oddeven(0)"
      ],
      "metadata": {
        "colab": {
          "base_uri": "https://localhost:8080/"
        },
        "id": "ZYxOhnfubZGw",
        "outputId": "5dd2bf7e-5ec1-4483-fb5d-06d70a0b0ffa"
      },
      "execution_count": 14,
      "outputs": [
        {
          "output_type": "execute_result",
          "data": {
            "text/plain": [
              "True"
            ]
          },
          "metadata": {},
          "execution_count": 14
        }
      ]
    },
    {
      "cell_type": "code",
      "source": [
        "oddeven(-9.1)"
      ],
      "metadata": {
        "colab": {
          "base_uri": "https://localhost:8080/"
        },
        "id": "YNg7LWcNbcIw",
        "outputId": "4b939baf-6002-46e8-9424-7fa8dd93982e"
      },
      "execution_count": 15,
      "outputs": [
        {
          "output_type": "execute_result",
          "data": {
            "text/plain": [
              "False"
            ]
          },
          "metadata": {},
          "execution_count": 15
        }
      ]
    },
    {
      "cell_type": "markdown",
      "source": [
        "##Loops: for and while"
      ],
      "metadata": {
        "id": "4FSdxa82b_dp"
      }
    },
    {
      "cell_type": "markdown",
      "source": [
        "$$\\sum_{i=1}^n i = \\frac{n(n+1)}{2}$$"
      ],
      "metadata": {
        "id": "8IiSiMGVdPZg"
      }
    },
    {
      "cell_type": "code",
      "source": [
        "100*(100+1)/2"
      ],
      "metadata": {
        "colab": {
          "base_uri": "https://localhost:8080/"
        },
        "id": "c_1iaEsIdvmi",
        "outputId": "9d394b5a-8f37-4126-ed1e-a1393fafcaad"
      },
      "execution_count": 16,
      "outputs": [
        {
          "output_type": "execute_result",
          "data": {
            "text/plain": [
              "5050.0"
            ]
          },
          "metadata": {},
          "execution_count": 16
        }
      ]
    },
    {
      "cell_type": "code",
      "source": [
        "for k in range(10):\n",
        "  print(k**2+1)"
      ],
      "metadata": {
        "colab": {
          "base_uri": "https://localhost:8080/"
        },
        "id": "khLG65FBhrWI",
        "outputId": "f71d7e50-2d05-4032-ae44-82f9e8861dfd"
      },
      "execution_count": 22,
      "outputs": [
        {
          "output_type": "stream",
          "name": "stdout",
          "text": [
            "1\n",
            "2\n",
            "5\n",
            "10\n",
            "17\n",
            "26\n",
            "37\n",
            "50\n",
            "65\n",
            "82\n"
          ]
        }
      ]
    },
    {
      "cell_type": "code",
      "source": [
        "import matplotlib.pyplot as plt\n",
        "\n",
        "#Plot x^2\n",
        "\n",
        "x = np.linspace(-10, 10, 100) #Create 100 points from x = -10 t x=10\n",
        "y = x**2\n",
        "\n",
        "for k in range(1, 11):\n",
        "  #plt.plot(x,y, label = \"x^2\")\n",
        "  plt.plot(x, k*y, label= \"placeholder\")\n",
        "  plt.legend()\n",
        "  plt.xlabel(\"x\")\n",
        "  plt.ylabel(\"y\")\n",
        "plt.show()"
      ],
      "metadata": {
        "colab": {
          "base_uri": "https://localhost:8080/",
          "height": 449
        },
        "id": "Lwf2Y1iXiB4_",
        "outputId": "20c5ec01-4f63-4035-c4fb-4519dfecfd23"
      },
      "execution_count": 30,
      "outputs": [
        {
          "output_type": "display_data",
          "data": {
            "text/plain": [
              "<Figure size 640x480 with 1 Axes>"
            ],
            "image/png": "[encoded data removed]"
          },
          "metadata": {}
        }
      ]
    },
    {
      "cell_type": "code",
      "source": [
        "integer_list =[]\n",
        "\n",
        "for i in range (1, 101):\n",
        "  integer_list.append(i)\n",
        "\n",
        "print(integer_list)\n",
        "print(sum(integer_list))"
      ],
      "metadata": {
        "colab": {
          "base_uri": "https://localhost:8080/"
        },
        "id": "Z0qKCLdOd5eq",
        "outputId": "f58300c5-c913-4caa-8ab9-0f6a20530dcd"
      },
      "execution_count": 18,
      "outputs": [
        {
          "output_type": "stream",
          "name": "stdout",
          "text": [
            "[1, 2, 3, 4, 5, 6, 7, 8, 9, 10, 11, 12, 13, 14, 15, 16, 17, 18, 19, 20, 21, 22, 23, 24, 25, 26, 27, 28, 29, 30, 31, 32, 33, 34, 35, 36, 37, 38, 39, 40, 41, 42, 43, 44, 45, 46, 47, 48, 49, 50, 51, 52, 53, 54, 55, 56, 57, 58, 59, 60, 61, 62, 63, 64, 65, 66, 67, 68, 69, 70, 71, 72, 73, 74, 75, 76, 77, 78, 79, 80, 81, 82, 83, 84, 85, 86, 87, 88, 89, 90, 91, 92, 93, 94, 95, 96, 97, 98, 99, 100]\n",
            "5050\n"
          ]
        }
      ]
    },
    {
      "cell_type": "code",
      "source": [
        "\n",
        "for i in range(5):\n",
        "  print(i*3)"
      ],
      "metadata": {
        "colab": {
          "base_uri": "https://localhost:8080/"
        },
        "id": "aHVfDE_gcq3h",
        "outputId": "d3a5b1dd-4214-47b7-e9f5-101d6e1748d2"
      },
      "execution_count": 19,
      "outputs": [
        {
          "output_type": "stream",
          "name": "stdout",
          "text": [
            "0\n",
            "3\n",
            "6\n",
            "9\n",
            "12\n"
          ]
        }
      ]
    },
    {
      "cell_type": "code",
      "source": [
        "even_numbers = [0, 2, 4, 6, 8, 10]\n",
        "\n",
        "for n in even_numbers:\n",
        "  print(n)"
      ],
      "metadata": {
        "colab": {
          "base_uri": "https://localhost:8080/"
        },
        "id": "ZeZGnhyQcVYg",
        "outputId": "d39b55cc-648b-4d20-fbdc-6e861863d50d"
      },
      "execution_count": 20,
      "outputs": [
        {
          "output_type": "stream",
          "name": "stdout",
          "text": [
            "0\n",
            "2\n",
            "4\n",
            "6\n",
            "8\n",
            "10\n"
          ]
        }
      ]
    },
    {
      "cell_type": "code",
      "source": [
        "# for\n",
        "s = 0\n",
        "for k in range(101):  #k = 0,...,100\n",
        "  s += k  #s = s+k\n",
        "print(\"sum 0,....100:\", s)\n",
        "\n",
        "#while\n",
        "k = 5\n",
        "fac = 1\n",
        "while k > 1:\n",
        "  fac *= k\n",
        "  k -= 1\n",
        "print(\"5!:\", fac)\n",
        "\n"
      ],
      "metadata": {
        "colab": {
          "base_uri": "https://localhost:8080/"
        },
        "id": "dxe3y0AybeSv",
        "outputId": "c47302b0-ac40-4b84-b057-c9f026c925b9"
      },
      "execution_count": 31,
      "outputs": [
        {
          "output_type": "stream",
          "name": "stdout",
          "text": [
            "sum 0,....100: 5050\n",
            "S!: 120\n"
          ]
        }
      ]
    },
    {
      "cell_type": "markdown",
      "source": [
        "##Factorials\n",
        "\n",
        "###2! = 2*1\n",
        "###3! = 3*2*1\n",
        "###4! = 4*3*2*1"
      ],
      "metadata": {
        "id": "PvMaalHylwFJ"
      }
    },
    {
      "cell_type": "code",
      "source": [
        "k = 5\n",
        "fac = 1\n",
        "while k > 1:\n",
        "  fac = fac * k\n",
        "  k = k - 1\n",
        "print(\"5!=\", fac)"
      ],
      "metadata": {
        "colab": {
          "base_uri": "https://localhost:8080/"
        },
        "id": "K5m6SIa1mBZh",
        "outputId": "3cd2ee4c-ce7a-4205-a80b-1e2ff83a03b2"
      },
      "execution_count": 32,
      "outputs": [
        {
          "output_type": "stream",
          "name": "stdout",
          "text": [
            "5!= 120\n"
          ]
        }
      ]
    },
    {
      "cell_type": "code",
      "source": [
        "x = 1\n",
        "\n",
        "while x < 5:\n",
        "  x = x + 1\n",
        "  print(x)"
      ],
      "metadata": {
        "colab": {
          "base_uri": "https://localhost:8080/"
        },
        "id": "6PwQb8vNmrKb",
        "outputId": "25d5a449-c122-407b-eee1-1024f98acc77"
      },
      "execution_count": 36,
      "outputs": [
        {
          "output_type": "stream",
          "name": "stdout",
          "text": [
            "2\n",
            "3\n",
            "4\n",
            "5\n"
          ]
        }
      ]
    },
    {
      "cell_type": "code",
      "source": [
        "#Exercise\n",
        "#For loop to compute the sum of squares from 1 to n=5\n",
        "\n",
        "#For loop method 1\n",
        "s = 0\n",
        "\n",
        "for k in range(1, 6):\n",
        "  s = s + k**2\n",
        "\n",
        "print(\"Sum of squares from 1 to 5 method 1:\", s)\n",
        "\n",
        "#For loop method 2\n",
        "s = 0\n",
        "\n",
        "for k in range(1, 6):\n",
        "  s += k**2\n",
        "\n",
        "print(\"Sum of squares from 1 to 5 method 2\", s)\n",
        "\n",
        "#For loop method 3\n",
        "squares = []\n",
        "for i in range(1, 6):\n",
        "  squares.append(i**2)\n",
        "\n",
        "sum_squares = sum(squares)\n",
        "\n",
        "print(\"Sum of squares from 1 to 5 method 3:\", sum_squares)\n"
      ],
      "metadata": {
        "colab": {
          "base_uri": "https://localhost:8080/"
        },
        "id": "FO6hYb_enCyW",
        "outputId": "0ceb33f2-c668-4061-dec8-714abd659694"
      },
      "execution_count": 47,
      "outputs": [
        {
          "output_type": "stream",
          "name": "stdout",
          "text": [
            "Sum of squares from 1 to 5 method 1: 55\n",
            "Sum of squares from 1 to 5: method 2 55\n",
            "Sum of squares from 1 to 5 method 3: 55\n"
          ]
        }
      ]
    },
    {
      "cell_type": "code",
      "source": [
        "#While loop to count down from 3 to 1\n",
        "\n",
        "x = 3\n",
        "\n",
        "while x >= 1:\n",
        "  print(x)\n",
        "  x = x - 1\n",
        ""
      ],
      "metadata": {
        "colab": {
          "base_uri": "https://localhost:8080/"
        },
        "id": "_bDmi8nKnJI6",
        "outputId": "a9f7e320-a3ce-4ebb-e6a0-64dd5f36cdf9"
      },
      "execution_count": 48,
      "outputs": [
        {
          "output_type": "stream",
          "name": "stdout",
          "text": [
            "3\n",
            "2\n",
            "1\n"
          ]
        }
      ]
    },
    {
      "cell_type": "markdown",
      "source": [
        "##List Comprehension"
      ],
      "metadata": {
        "id": "svMbgEH7qVaD"
      }
    },
    {
      "cell_type": "code",
      "source": [
        "#List comprehension\n",
        "nums = [1, 2, 3, 4, 5]\n",
        "squares = [x*x for x in nums]\n",
        "print(squares)\n",
        "\n",
        "#Slicing strings\n",
        "text = \"Numerical\"\n",
        "print(text[:3], text[3:7], text[-3:])"
      ],
      "metadata": {
        "colab": {
          "base_uri": "https://localhost:8080/"
        },
        "id": "L812YgDjqKT6",
        "outputId": "595799fc-1dd2-4977-965c-ae23237f7e57"
      },
      "execution_count": 51,
      "outputs": [
        {
          "output_type": "stream",
          "name": "stdout",
          "text": [
            "[1, 4, 9, 16, 25]\n",
            "Num eric cal\n"
          ]
        }
      ]
    },
    {
      "cell_type": "code",
      "source": [
        "text[0]"
      ],
      "metadata": {
        "colab": {
          "base_uri": "https://localhost:8080/",
          "height": 35
        },
        "id": "-BDUoPtcrD29",
        "outputId": "658cd0b4-fcbc-4fad-fc29-babb8d54cbf9"
      },
      "execution_count": 55,
      "outputs": [
        {
          "output_type": "execute_result",
          "data": {
            "text/plain": [
              "'N'"
            ],
            "application/vnd.google.colaboratory.intrinsic+json": {
              "type": "string"
            }
          },
          "metadata": {},
          "execution_count": 55
        }
      ]
    },
    {
      "cell_type": "code",
      "source": [
        "text = \"mathematics\"\n",
        "\n",
        "#Create a lost of each character in a string\n",
        "text_list = [char for char in text]\n",
        "print(\"Text list: \", text_list)"
      ],
      "metadata": {
        "colab": {
          "base_uri": "https://localhost:8080/"
        },
        "id": "uAsXqm4xr5Gy",
        "outputId": "8921fb3a-836e-4e24-f019-b1bdec57a094"
      },
      "execution_count": 57,
      "outputs": [
        {
          "output_type": "stream",
          "name": "stdout",
          "text": [
            "Text list:  ['m', 'a', 't', 'h', 'e', 'm', 'a', 't', 'i', 'c', 's']\n"
          ]
        }
      ]
    },
    {
      "cell_type": "code",
      "source": [
        "#Exercise\n",
        "#Build a list of even nmbers from 0..10 with a list comprehension\n",
        "\n",
        "#nums = [0, 1, 2, 3, 4, 5, 6, 7, 8, 9, 10]\n",
        "\n",
        "numbers = list(range(11))\n",
        "even = [x for x in nums if x % 2 == 0]\n",
        "print(even)"
      ],
      "metadata": {
        "colab": {
          "base_uri": "https://localhost:8080/"
        },
        "id": "88Xn_aBJsk_q",
        "outputId": "04a91bc7-29d9-4174-c919-0e8226719836"
      },
      "execution_count": 60,
      "outputs": [
        {
          "output_type": "stream",
          "name": "stdout",
          "text": [
            "[2, 4, 6, 8, 10]\n"
          ]
        }
      ]
    },
    {
      "cell_type": "code",
      "source": [
        "list(range(0, 11, 2))"
      ],
      "metadata": {
        "colab": {
          "base_uri": "https://localhost:8080/"
        },
        "id": "CoJR9OmivEmi",
        "outputId": "20b9ddfc-00da-4989-d65b-92017fff0f5d"
      },
      "execution_count": 61,
      "outputs": [
        {
          "output_type": "execute_result",
          "data": {
            "text/plain": [
              "[0, 2, 4, 6, 8, 10]"
            ]
          },
          "metadata": {},
          "execution_count": 61
        }
      ]
    },
    {
      "cell_type": "code",
      "source": [
        "#string \"analysis\" print every other character\n",
        "\n",
        "#Define string\n",
        "text = \"analysis\"\n",
        "\n",
        "#Method 1\n",
        "print(\"Method 1:\", text[::2])\n",
        "\n",
        "#Method 2\n",
        "print(\"Method 2:\")\n",
        "for i in range(len(text)):\n",
        "  if i % 2 == 0:\n",
        "    print(text[i])\n",
        "\n",
        "#Method 3\n",
        "print(\"Method 3:\")\n",
        "for i in range(0, len(text)+1, 2):\n",
        "  print(text[i])"
      ],
      "metadata": {
        "colab": {
          "base_uri": "https://localhost:8080/",
          "height": 367
        },
        "id": "TEc19QxrswDM",
        "outputId": "24dd29cd-bcae-4b83-8f74-5f0f65bd709a"
      },
      "execution_count": 67,
      "outputs": [
        {
          "output_type": "stream",
          "name": "stdout",
          "text": [
            "Method 1: aayi\n",
            "Method 2:\n",
            "a\n",
            "a\n",
            "y\n",
            "i\n",
            "Method 3:\n",
            "a\n",
            "a\n",
            "y\n",
            "i\n"
          ]
        },
        {
          "output_type": "error",
          "ename": "IndexError",
          "evalue": "string index out of range",
          "traceback": [
            "\u001b[0;31m---------------------------------------------------------------------------\u001b[0m",
            "\u001b[0;31mIndexError\u001b[0m                                Traceback (most recent call last)",
            "\u001b[0;32m/tmp/ipython-input-2550535426.py\u001b[0m in \u001b[0;36m<cell line: 0>\u001b[0;34m()\u001b[0m\n\u001b[1;32m     16\u001b[0m \u001b[0mprint\u001b[0m\u001b[0;34m(\u001b[0m\u001b[0;34m\"Method 3:\"\u001b[0m\u001b[0;34m)\u001b[0m\u001b[0;34m\u001b[0m\u001b[0;34m\u001b[0m\u001b[0m\n\u001b[1;32m     17\u001b[0m \u001b[0;32mfor\u001b[0m \u001b[0mi\u001b[0m \u001b[0;32min\u001b[0m \u001b[0mrange\u001b[0m\u001b[0;34m(\u001b[0m\u001b[0;36m0\u001b[0m\u001b[0;34m,\u001b[0m \u001b[0mlen\u001b[0m\u001b[0;34m(\u001b[0m\u001b[0mtext\u001b[0m\u001b[0;34m)\u001b[0m\u001b[0;34m+\u001b[0m\u001b[0;36m1\u001b[0m\u001b[0;34m,\u001b[0m \u001b[0;36m2\u001b[0m\u001b[0;34m)\u001b[0m\u001b[0;34m:\u001b[0m\u001b[0;34m\u001b[0m\u001b[0;34m\u001b[0m\u001b[0m\n\u001b[0;32m---> 18\u001b[0;31m   \u001b[0mprint\u001b[0m\u001b[0;34m(\u001b[0m\u001b[0mtext\u001b[0m\u001b[0;34m[\u001b[0m\u001b[0mi\u001b[0m\u001b[0;34m]\u001b[0m\u001b[0;34m)\u001b[0m\u001b[0;34m\u001b[0m\u001b[0;34m\u001b[0m\u001b[0m\n\u001b[0m",
            "\u001b[0;31mIndexError\u001b[0m: string index out of range"
          ]
        }
      ]
    }
  ]
}