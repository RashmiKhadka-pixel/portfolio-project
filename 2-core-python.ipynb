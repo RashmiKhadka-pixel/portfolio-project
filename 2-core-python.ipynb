{
  "nbformat": 4,
  "nbformat_minor": 0,
  "metadata": {
    "colab": {
      "provenance": [],
      "include_colab_link": true
    },
    "kernelspec": {
      "name": "python3",
      "display_name": "Python 3"
    },
    "language_info": {
      "name": "python"
    }
  },
  "cells": [
    {
      "cell_type": "markdown",
      "metadata": {
        "id": "view-in-github",
        "colab_type": "text"
      },
      "source": [
        "<a href=\"https://colab.research.google.com/github/RashmiKhadka-pixel/portfolio-project/blob/main/2-core-python.ipynb\" target=\"_parent\"><img src=\"https://colab.research.google.com/assets/colab-badge.svg\" alt=\"Open In Colab\"/></a>"
      ]
    },
    {
      "cell_type": "code",
      "execution_count": 4,
      "metadata": {
        "id": "gnT7qMYPQtES",
        "outputId": "cea3606b-7913-4112-9ba6-062fbb2905b6",
        "colab": {
          "base_uri": "https://localhost:8080/"
        }
      },
      "outputs": [
        {
          "output_type": "stream",
          "name": "stdout",
          "text": [
            "<class 'int'> <class 'float'> <class 'str'> <class 'bool'>\n",
            "7 2.5 2324 True\n"
          ]
        }
      ],
      "source": [
        " x = 7 #int\n",
        " y = 2.5 #float\n",
        " z = \"2324\" #str\n",
        " a = True #bool\n",
        "\n",
        " print(type(x), type(y), type(z), type(a))\n",
        "\n",
        " #casting\n",
        " print(x, y, z, a)"
      ]
    },
    {
      "cell_type": "code",
      "source": [
        "int(x)"
      ],
      "metadata": {
        "colab": {
          "base_uri": "https://localhost:8080/"
        },
        "id": "583XJXdIS7Fk",
        "outputId": "a2e3de0a-0417-42ee-ec94-58b8101daa61"
      },
      "execution_count": 2,
      "outputs": [
        {
          "output_type": "execute_result",
          "data": {
            "text/plain": [
              "7"
            ]
          },
          "metadata": {},
          "execution_count": 2
        }
      ]
    },
    {
      "cell_type": "code",
      "source": [
        "str(x)"
      ],
      "metadata": {
        "colab": {
          "base_uri": "https://localhost:8080/",
          "height": 35
        },
        "id": "7725-g-7S_pe",
        "outputId": "6af21359-e678-4968-ad5a-7777871eb13f"
      },
      "execution_count": 3,
      "outputs": [
        {
          "output_type": "execute_result",
          "data": {
            "text/plain": [
              "'7'"
            ],
            "application/vnd.google.colaboratory.intrinsic+json": {
              "type": "string"
            }
          },
          "metadata": {},
          "execution_count": 3
        }
      ]
    },
    {
      "cell_type": "code",
      "source": [
        "import numpy as np\n",
        "\n",
        "a = [True, True, False]\n",
        "arr = np.array(a)\n",
        "arr+1"
      ],
      "metadata": {
        "colab": {
          "base_uri": "https://localhost:8080/"
        },
        "id": "YwGSYTo0S3Nb",
        "outputId": "80e6915b-ba88-4ec2-8bd0-a81333a60c76"
      },
      "execution_count": 6,
      "outputs": [
        {
          "output_type": "execute_result",
          "data": {
            "text/plain": [
              "array([2, 2, 1])"
            ]
          },
          "metadata": {},
          "execution_count": 6
        }
      ]
    },
    {
      "cell_type": "code",
      "source": [
        "arr.astype(int)"
      ],
      "metadata": {
        "colab": {
          "base_uri": "https://localhost:8080/"
        },
        "id": "jqHmvD9STbjB",
        "outputId": "544c1bb9-ffdd-48dc-d76a-fdb81f804169"
      },
      "execution_count": 7,
      "outputs": [
        {
          "output_type": "execute_result",
          "data": {
            "text/plain": [
              "array([1, 1, 0])"
            ]
          },
          "metadata": {},
          "execution_count": 7
        }
      ]
    },
    {
      "cell_type": "code",
      "source": [
        "arr"
      ],
      "metadata": {
        "colab": {
          "base_uri": "https://localhost:8080/"
        },
        "id": "KANAkJpmTokz",
        "outputId": "ae6d1bd9-4c61-4f8f-b58f-856f730c6170"
      },
      "execution_count": 8,
      "outputs": [
        {
          "output_type": "execute_result",
          "data": {
            "text/plain": [
              "array([ True,  True, False])"
            ]
          },
          "metadata": {},
          "execution_count": 8
        }
      ]
    },
    {
      "cell_type": "code",
      "source": [
        "np.int64(arr)"
      ],
      "metadata": {
        "colab": {
          "base_uri": "https://localhost:8080/"
        },
        "id": "tl5mavcATpNG",
        "outputId": "1eaf0400-4aeb-4fe9-9715-5165f7607fd7"
      },
      "execution_count": 9,
      "outputs": [
        {
          "output_type": "execute_result",
          "data": {
            "text/plain": [
              "array([1, 1, 0])"
            ]
          },
          "metadata": {},
          "execution_count": 9
        }
      ]
    },
    {
      "cell_type": "code",
      "source": [
        "#EXERCISE\n",
        "#Create variables a=10, b=\"3\". Convert b to an integr and print a + int(b)\n",
        "\n",
        "#Define variables\n",
        "a = 10 #int\n",
        "b = \"3\" #str\n",
        "\n",
        "#print variable types\n",
        "print(type(a), type(b))\n",
        "\n",
        "#Convert variable b to integer\n",
        "b = int(b)\n",
        "\n",
        "#check type again\n",
        "print(type(a), type(b))\n",
        "\n",
        "#add variables\n",
        "a+b\n",
        "\n"
      ],
      "metadata": {
        "colab": {
          "base_uri": "https://localhost:8080/"
        },
        "id": "RidPKO56Ty3n",
        "outputId": "138b68b0-9f74-49f7-e685-355dd14b9856"
      },
      "execution_count": 10,
      "outputs": [
        {
          "output_type": "stream",
          "name": "stdout",
          "text": [
            "<class 'int'> <class 'str'>\n",
            "<class 'int'> <class 'int'>\n"
          ]
        },
        {
          "output_type": "execute_result",
          "data": {
            "text/plain": [
              "13"
            ]
          },
          "metadata": {},
          "execution_count": 10
        }
      ]
    },
    {
      "cell_type": "markdown",
      "source": [
        "### You cannot add a numerical type (floats or ints) with string\n",
        "###2.0 + \"test\" #This will be an error"
      ],
      "metadata": {
        "id": "fKQuIOuTV8R2"
      }
    },
    {
      "cell_type": "code",
      "source": [
        "# However we can multiply strings by integers (float doesnt work)\n",
        "\n",
        "3 * 'test'"
      ],
      "metadata": {
        "id": "kxEP9uuRWFMU",
        "outputId": "3af060fa-18b1-4aff-dbb9-9cc3fac0b836",
        "colab": {
          "base_uri": "https://localhost:8080/",
          "height": 35
        }
      },
      "execution_count": 12,
      "outputs": [
        {
          "output_type": "execute_result",
          "data": {
            "text/plain": [
              "'testtesttest'"
            ],
            "application/vnd.google.colaboratory.intrinsic+json": {
              "type": "string"
            }
          },
          "metadata": {},
          "execution_count": 12
        }
      ]
    },
    {
      "cell_type": "markdown",
      "source": [
        "## IF, ELIF, AND ELSE STATEMENTS"
      ],
      "metadata": {
        "id": "Ni2l0Mn0XI8e"
      }
    },
    {
      "cell_type": "code",
      "source": [
        "def classify(x):\n",
        "  if x < 0:\n",
        "    return \"negative\"\n",
        "\n",
        "  elif x == 0:\n",
        "    return \"zero\"\n",
        "\n",
        "  else:\n",
        "    return \"positive\"\n",
        "\n",
        "print(classify(-4), classify(8), classify(0))\n"
      ],
      "metadata": {
        "id": "EEcNmc-LW8S2",
        "outputId": "2950084d-3edb-4d9e-9bcd-0e781c20f1af",
        "colab": {
          "base_uri": "https://localhost:8080/"
        }
      },
      "execution_count": 13,
      "outputs": [
        {
          "output_type": "stream",
          "name": "stdout",
          "text": [
            "negative positive zero\n"
          ]
        }
      ]
    },
    {
      "cell_type": "code",
      "source": [
        "def classify(x):\n",
        "\n",
        "  output = \"\"\n",
        "\n",
        "  if x < 0:\n",
        "    output = \"negative\"\n",
        "\n",
        "  elif x == 0:\n",
        "    output =  \"zero\"\n",
        "\n",
        "  else:\n",
        "    output =  \"positive\"\n",
        "\n",
        "  return output\n",
        "\n",
        "print(classify(-4), classify(8), classify(0))"
      ],
      "metadata": {
        "id": "mVmtOAqcX-Xh",
        "outputId": "d63c7c9f-3480-44b2-a898-7192ae9c74c9",
        "colab": {
          "base_uri": "https://localhost:8080/"
        }
      },
      "execution_count": 15,
      "outputs": [
        {
          "output_type": "stream",
          "name": "stdout",
          "text": [
            "negative positive zero\n"
          ]
        }
      ]
    },
    {
      "cell_type": "code",
      "source": [
        "#EXERCISE Write a function is_even(n) that returns true if n is even , else False\n",
        "\n",
        "def oddeven(x):\n",
        "  if x % 2 == 0:\n",
        "    return True\n",
        "\n",
        "  else:\n",
        "    return False\n",
        "\n",
        "print(oddeven(7), oddeven(6), oddeven(68))\n"
      ],
      "metadata": {
        "id": "vdhB3H30ZHDO",
        "outputId": "d6e3bf5c-92b6-4a9e-bc69-3e3d4323d9d6",
        "colab": {
          "base_uri": "https://localhost:8080/"
        }
      },
      "execution_count": 19,
      "outputs": [
        {
          "output_type": "stream",
          "name": "stdout",
          "text": [
            "False True True\n"
          ]
        }
      ]
    }
  ]
}