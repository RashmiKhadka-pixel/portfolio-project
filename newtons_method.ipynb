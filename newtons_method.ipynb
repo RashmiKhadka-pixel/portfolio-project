{
  "nbformat": 4,
  "nbformat_minor": 0,
  "metadata": {
    "colab": {
      "provenance": [],
      "include_colab_link": true
    },
    "kernelspec": {
      "name": "python3",
      "display_name": "Python 3"
    },
    "language_info": {
      "name": "python"
    }
  },
  "cells": [
    {
      "cell_type": "markdown",
      "metadata": {
        "id": "view-in-github",
        "colab_type": "text"
      },
      "source": [
        "<a href=\"https://colab.research.google.com/github/RashmiKhadka-pixel/portfolio-project/blob/main/newtons_method.ipynb\" target=\"_parent\"><img src=\"https://colab.research.google.com/assets/colab-badge.svg\" alt=\"Open In Colab\"/></a>"
      ]
    },
    {
      "cell_type": "code",
      "execution_count": 1,
      "metadata": {
        "id": "1gygvBTOgiDC"
      },
      "outputs": [],
      "source": [
        "import numpy as np\n",
        "import matplotlib.pyplot as plt\n",
        "\n",
        "def newton_method(f, df, x0, tol=1e-6, max_iter=100):\n",
        "    \"\"\"\n",
        "    Newton's method for finding roots.\n",
        "\n",
        "    Parameters:\n",
        "    -----------\n",
        "    f : function\n",
        "        The function whose root we're finding\n",
        "    df : function\n",
        "        The derivative of f\n",
        "    x0 : float\n",
        "        Initial guess\n",
        "    tol : float\n",
        "        Tolerance for convergence\n",
        "    max_iter : int\n",
        "        Maximum number of iterations\n",
        "\n",
        "    Returns:\n",
        "    --------\n",
        "    x : float\n",
        "        Approximate root\n",
        "    iterations : list\n",
        "        History of iterations\n",
        "    \"\"\"\n",
        "    x = x0\n",
        "    iterations = [x]\n",
        "\n",
        "    for i in range(max_iter):\n",
        "        fx = f(x)\n",
        "        dfx = df(x)\n",
        "\n",
        "        # Check if derivative is too small\n",
        "        if abs(dfx) < 1e-12:\n",
        "            print(f\"Derivative too small at iteration {i}\")\n",
        "            break\n",
        "\n",
        "        # Newton's update\n",
        "        x_new = x - fx / dfx\n",
        "        iterations.append(x_new)\n",
        "\n",
        "        # Check convergence\n",
        "        if abs(x_new - x) < tol:\n",
        "            print(f\"Converged in {i+1} iterations\")\n",
        "            return x_new, iterations\n",
        "\n",
        "        x = x_new\n",
        "\n",
        "    print(f\"Did not converge in {max_iter} iterations\")\n",
        "    return x, iterations"
      ]
    },
    {
      "cell_type": "code",
      "source": [
        "#Define fucntions\n",
        "\n",
        "f = lambda x: x**2 -2\n",
        "df = lambda x: 2*x\n",
        "\n",
        "#Find root\n",
        "root, history = newton_method (f,            #Function\n",
        "                               df,           #Derivative\n",
        "                               x0 = 1.0,     #Initial guess\n",
        "                               tol = 1e-10)  #Tolerance hreshold\n",
        "print(f\"root 2 = {root}\")\n",
        "print(f\"Error: {abs(root - np.sqrt(2))}\")"
      ],
      "metadata": {
        "id": "ustK549rkNJT",
        "outputId": "91e7a769-4570-4fdb-b820-b643d2b525c7",
        "colab": {
          "base_uri": "https://localhost:8080/"
        }
      },
      "execution_count": 2,
      "outputs": [
        {
          "output_type": "stream",
          "name": "stdout",
          "text": [
            "Converged in 5 iterations\n",
            "root 2 = 1.4142135623730951\n",
            "Error: 0.0\n"
          ]
        }
      ]
    },
    {
      "cell_type": "code",
      "source": [
        "#plot history and np.sqrt(2) exact root\n",
        "plt.plot(history, 'b', label='x_n')\n",
        "plt.xlabel(\"Iteration\")\n",
        "plt.ylabel(\"x\")\n",
        "plt.title(\"Newton's Method History\")\n",
        "plt.show()\n",
        ""
      ],
      "metadata": {
        "id": "vqSjY15sm4-B",
        "colab": {
          "base_uri": "https://localhost:8080/",
          "height": 472
        },
        "outputId": "1d255669-f75d-41e1-f804-61c7b7cd73b2"
      },
      "execution_count": 3,
      "outputs": [
        {
          "output_type": "display_data",
          "data": {
            "text/plain": [
              "<Figure size 640x480 with 1 Axes>"
            ],
            "image/png": "[encoded data removed]"
          },
          "metadata": {}
        }
      ]
    },
    {
      "cell_type": "code",
      "source": [
        "history #shows how it converges all the way to final root"
      ],
      "metadata": {
        "id": "_CSgeu52mIma",
        "outputId": "c3c84897-3d20-4ab9-80ba-b4cc47fc1f42",
        "colab": {
          "base_uri": "https://localhost:8080/"
        }
      },
      "execution_count": 4,
      "outputs": [
        {
          "output_type": "execute_result",
          "data": {
            "text/plain": [
              "[1.0,\n",
              " 1.5,\n",
              " 1.4166666666666667,\n",
              " 1.4142156862745099,\n",
              " 1.4142135623746899,\n",
              " 1.4142135623730951]"
            ]
          },
          "metadata": {},
          "execution_count": 4
        }
      ]
    },
    {
      "cell_type": "code",
      "source": [
        "def f(x):\n",
        "  return x**2\n",
        "def df(x):\n",
        "  return 2*x"
      ],
      "metadata": {
        "id": "6rfpmg9ziPDy"
      },
      "execution_count": 5,
      "outputs": []
    },
    {
      "cell_type": "code",
      "source": [
        "df(3)"
      ],
      "metadata": {
        "id": "_5Q9ejgGibBr",
        "outputId": "7e1b4577-d411-44e6-f62f-f2a458e48225",
        "colab": {
          "base_uri": "https://localhost:8080/"
        }
      },
      "execution_count": 6,
      "outputs": [
        {
          "output_type": "execute_result",
          "data": {
            "text/plain": [
              "6"
            ]
          },
          "metadata": {},
          "execution_count": 6
        }
      ]
    },
    {
      "cell_type": "code",
      "source": [
        "#f(x+h) - f(x) / h\n",
        "\n",
        "x0 = 3\n",
        "h = 0.0000000001\n",
        "\n",
        "#Approximate derivative\n",
        "df_approx = (f(x0 + h) - f(x0)) / h\n",
        "df_approx"
      ],
      "metadata": {
        "id": "Ex5hpheIidpp",
        "outputId": "2a4a0734-fe01-42a1-c645-fd09dd338967",
        "colab": {
          "base_uri": "https://localhost:8080/"
        }
      },
      "execution_count": 7,
      "outputs": [
        {
          "output_type": "execute_result",
          "data": {
            "text/plain": [
              "6.000000496442226"
            ]
          },
          "metadata": {},
          "execution_count": 7
        }
      ]
    },
    {
      "cell_type": "code",
      "source": [
        "# Example where derivative is zero\n",
        "f = lambda x: np.sqrt(np.abs(x))\n",
        "df = lambda x: 0.5 / np.sqrt(np.abs(x))\n",
        "\n",
        "# Find root\n",
        "root, history = newton_method(f,            # Function\n",
        "                              df,           # Derivative\n",
        "                              x0=0.1,        # Initial guess\n",
        "                              tol=1e-10)    # Tolerance threshod\n",
        "\n",
        "print(f\"0 ≈ {root}\")\n",
        "print(f\"Error: {abs(root - 0)}\")"
      ],
      "metadata": {
        "id": "xhJou4vliBma"
      },
      "execution_count": 7,
      "outputs": []
    },
    {
      "cell_type": "code",
      "source": [
        "# Plot np.sqrt(np.abs(x))\n",
        "x_vals = np.linspace(-10, 10, 500)\n",
        "y_vals = [np.sqrt(np.abs(x)) for x in x_vals]\n",
        "\n",
        "plt.plot(x_vals, y_vals)\n",
        "plt.xlabel(\"x\")\n",
        "plt.ylabel(\"y\")\n",
        "plt.title(\"sqrt(abs(x))\")\n",
        "plt.show()"
      ],
      "metadata": {
        "id": "WzJD1j7y5dxj"
      },
      "execution_count": null,
      "outputs": []
    }
  ]
}