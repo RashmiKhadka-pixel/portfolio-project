{
  "nbformat": 4,
  "nbformat_minor": 0,
  "metadata": {
    "colab": {
      "provenance": [],
      "include_colab_link": true
    },
    "kernelspec": {
      "name": "python3",
      "display_name": "Python 3"
    },
    "language_info": {
      "name": "python"
    }
  },
  "cells": [
    {
      "cell_type": "markdown",
      "metadata": {
        "id": "view-in-github",
        "colab_type": "text"
      },
      "source": [
        "<a href=\"https://colab.research.google.com/github/RashmiKhadka-pixel/portfolio-project/blob/main/newtons_method.ipynb\" target=\"_parent\"><img src=\"https://colab.research.google.com/assets/colab-badge.svg\" alt=\"Open In Colab\"/></a>"
      ]
    },
    {
      "cell_type": "code",
      "execution_count": null,
      "metadata": {
        "id": "1gygvBTOgiDC"
      },
      "outputs": [],
      "source": [
        "import numpy as np\n",
        "import matplotlib.pyplot as plt\n",
        "\n",
        "def newton_method(f, df, x0, tol=1e-6, max_iter=100):\n",
        "    \"\"\"\n",
        "    Newton's method for finding roots.\n",
        "\n",
        "    Parameters:\n",
        "    -----------\n",
        "    f : function\n",
        "        The function whose root we're finding\n",
        "    df : function\n",
        "        The derivative of f\n",
        "    x0 : float\n",
        "        Initial guess\n",
        "    tol : float\n",
        "        Tolerance for convergence\n",
        "    max_iter : int\n",
        "        Maximum number of iterations\n",
        "\n",
        "    Returns:\n",
        "    --------\n",
        "    x : float\n",
        "        Approximate root\n",
        "    iterations : list\n",
        "        History of iterations\n",
        "    \"\"\"\n",
        "    x = x0\n",
        "    iterations = [x]\n",
        "\n",
        "    for i in range(max_iter):\n",
        "        fx = f(x)\n",
        "        dfx = df(x)\n",
        "\n",
        "        # Check if derivative is too small\n",
        "        if abs(dfx) < 1e-12:\n",
        "            print(f\"Derivative too small at iteration {i}\")\n",
        "            break\n",
        "\n",
        "        # Newton's update\n",
        "        x_new = x - fx / dfx\n",
        "        iterations.append(x_new)\n",
        "\n",
        "        # Check convergence\n",
        "        if abs(x_new - x) < tol:\n",
        "            print(f\"Converged in {i+1} iterations\")\n",
        "            return x_new, iterations\n",
        "\n",
        "        x = x_new\n",
        "\n",
        "    print(f\"Did not converge in {max_iter} iterations\")\n",
        "    return x, iterations"
      ]
    },
    {
      "cell_type": "code",
      "source": [
        "#Define fucntions\n",
        "\n",
        "f = lambda x: x**2 -2\n",
        "df = lambda x: 2*x\n",
        "\n",
        "#Find root\n",
        "root, history = newton_method (f,            #Function\n",
        "                               df,           #Derivative\n",
        "                               x0 = 1.0,     #Initial guess\n",
        "                               tol = 1e-10)  #Tolerance hreshold\n",
        "print(f\"root 2 = {root}\")\n",
        "print(f\"Error: {abs(root - np.sqrt(2))}\")"
      ],
      "metadata": {
        "id": "ustK549rkNJT",
        "outputId": "7da3c1a0-3731-4334-9075-5a1bd515fad7",
        "colab": {
          "base_uri": "https://localhost:8080/"
        }
      },
      "execution_count": null,
      "outputs": [
        {
          "output_type": "stream",
          "name": "stdout",
          "text": [
            "Converged in 5 iterations\n",
            "root 2 = 1.4142135623730951\n",
            "Error: 0.0\n"
          ]
        }
      ]
    },
    {
      "cell_type": "code",
      "source": [
        "#plot history and np.sqrt(2) exact root\n"
      ],
      "metadata": {
        "id": "vqSjY15sm4-B"
      },
      "execution_count": null,
      "outputs": []
    },
    {
      "cell_type": "code",
      "source": [
        "history #shows how it converges all the way to final root"
      ],
      "metadata": {
        "id": "_CSgeu52mIma",
        "outputId": "62703351-2a2f-44a0-8ba1-2c4a5dcbc1ef",
        "colab": {
          "base_uri": "https://localhost:8080/"
        }
      },
      "execution_count": null,
      "outputs": [
        {
          "output_type": "execute_result",
          "data": {
            "text/plain": [
              "[1.0,\n",
              " 1.5,\n",
              " 1.4166666666666667,\n",
              " 1.4142156862745099,\n",
              " 1.4142135623746899,\n",
              " 1.4142135623730951]"
            ]
          },
          "metadata": {},
          "execution_count": 8
        }
      ]
    },
    {
      "cell_type": "code",
      "source": [
        "def f(x):\n",
        "  return x**2\n",
        "def df(x):\n",
        "  return 2*x"
      ],
      "metadata": {
        "id": "6rfpmg9ziPDy"
      },
      "execution_count": null,
      "outputs": []
    },
    {
      "cell_type": "code",
      "source": [
        "df(3)"
      ],
      "metadata": {
        "id": "_5Q9ejgGibBr",
        "outputId": "7c3e15d0-3106-4741-8bd1-72cbc9a0a125",
        "colab": {
          "base_uri": "https://localhost:8080/"
        }
      },
      "execution_count": null,
      "outputs": [
        {
          "output_type": "execute_result",
          "data": {
            "text/plain": [
              "6"
            ]
          },
          "metadata": {},
          "execution_count": 4
        }
      ]
    },
    {
      "cell_type": "code",
      "source": [
        "#f(x+h) - f(x) / h\n",
        "\n",
        "x0 = 3\n",
        "h = 0.0000000001\n",
        "\n",
        "#Approximate derivative\n",
        "df_approx = (f(x0 + h) - f(x0)) / h\n",
        "df_approx"
      ],
      "metadata": {
        "id": "Ex5hpheIidpp",
        "outputId": "c3c11369-f308-4538-f591-783ac309fb92",
        "colab": {
          "base_uri": "https://localhost:8080/"
        }
      },
      "execution_count": null,
      "outputs": [
        {
          "output_type": "execute_result",
          "data": {
            "text/plain": [
              "6.000000496442226"
            ]
          },
          "metadata": {},
          "execution_count": 5
        }
      ]
    },
    {
      "cell_type": "code",
      "source": [],
      "metadata": {
        "id": "xhJou4vliBma",
        "outputId": "991e502f-b16b-41dc-86ae-931bcecbb198",
        "colab": {
          "base_uri": "https://localhost:8080/",
          "height": 141
        }
      },
      "execution_count": null,
      "outputs": [
        {
          "output_type": "error",
          "ename": "NameError",
          "evalue": "name 'x' is not defined",
          "traceback": [
            "\u001b[0;31m---------------------------------------------------------------------------\u001b[0m",
            "\u001b[0;31mNameError\u001b[0m                                 Traceback (most recent call last)",
            "\u001b[0;32m/tmp/ipython-input-1036701064.py\u001b[0m in \u001b[0;36m<cell line: 0>\u001b[0;34m()\u001b[0m\n\u001b[0;32m----> 1\u001b[0;31m \u001b[0mf\u001b[0m\u001b[0;34m(\u001b[0m\u001b[0mx\u001b[0m\u001b[0;34m+\u001b[0m\u001b[0mh\u001b[0m\u001b[0;34m)\u001b[0m \u001b[0;34m-\u001b[0m \u001b[0mf\u001b[0m\u001b[0;34m(\u001b[0m\u001b[0mx\u001b[0m\u001b[0;34m)\u001b[0m \u001b[0;34m/\u001b[0m \u001b[0mh\u001b[0m\u001b[0;34m\u001b[0m\u001b[0;34m\u001b[0m\u001b[0m\n\u001b[0m",
            "\u001b[0;31mNameError\u001b[0m: name 'x' is not defined"
          ]
        }
      ]
    }
  ]
}